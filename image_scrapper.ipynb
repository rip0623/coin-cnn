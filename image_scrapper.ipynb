{
 "cells": [
  {
   "cell_type": "code",
   "execution_count": 203,
   "metadata": {},
   "outputs": [],
   "source": [
    "import requests\n",
    "import json\n",
    "from bs4 import BeautifulSoup\n",
    "import numpy as np\n",
    "from urllib import request\n",
    "import time"
   ]
  },
  {
   "cell_type": "markdown",
   "metadata": {},
   "source": [
    "### Coin class\n",
    "Create a coin class that will keep track of each coin's data, such as url, coin name and the images_url"
   ]
  },
  {
   "cell_type": "code",
   "execution_count": 301,
   "metadata": {
    "scrolled": true
   },
   "outputs": [],
   "source": [
    "# Class for each coin category.\n",
    "class Coin:\n",
    "    def __init__(self, coin_id, coin_name, coin_currency, coin_country):\n",
    "        self.id = coin_id\n",
    "        self.name = coin_name\n",
    "        self.currency = coin_currency\n",
    "        self.country = coin_country\n",
    "        self.currency_url = \"\" # Url of the web we are going to scrap.\n",
    "        self.image_urls = [] # All the relevant images urls ready to download.\n",
    "        self.soup = None # Our BeautifulSoup containing the html object.\n",
    "        \n",
    "    # Return the url we are going to scrap\n",
    "    def get_url (self, year=\"1990-2018\", page=0):\n",
    "        base_url = \"https://en.ucoin.net/catalog/?\" # Website url\n",
    "        country = f\"country={self.country}\" # Parameters\n",
    "        year = f\"year={year}\" # Parameters\n",
    "        page_n = str(page)\n",
    "\n",
    "        url = base_url + country + \"&\" + year + \"&type=1&page=\" + page_n\n",
    "        \n",
    "        self.currency_url = url # Update our currency_url variable.\n",
    "    \n",
    "    # Store the html of the web in a variable.\n",
    "    def get_html (self):\n",
    "        headers = {'user-agent':'Mozilla/5.0'}\n",
    "        page = requests.get(self.currency_url, headers=headers)\n",
    "\n",
    "        if page.status_code == 200:\n",
    "            self.soup = BeautifulSoup(page.content, 'html.parser')\n",
    "        else:\n",
    "            raise ValueError(f\"Status code {page.status_code} for url: {self.currency_url}\") # Throw error if 404\n",
    "    \n",
    "    # Examine the html to find images of our specific coin.\n",
    "    # First we find the coin from a list of coins\n",
    "    # Second we extract a link that takes us to a galley page with lots of photos for that coin.\n",
    "    # Finally extract all the coins from the gallery.\n",
    "    def get_image_urls (self):\n",
    "        headers = {'user-agent':'Mozilla/5.0'}\n",
    "        base_url = \"https://en.ucoin.net\"\n",
    "        keywords = self.name.lower().split() # Our target image keywords\n",
    "        pages = len(self.soup.select(\"div.pages a\")) # number of pages\n",
    "        all_coins = []\n",
    "        \n",
    "        # If we have multiple pages, loop through all of them.\n",
    "        if (pages != 0):\n",
    "            for ii in range(pages):\n",
    "                page_n = ii+1\n",
    "                self.get_url(page=page_n)\n",
    "                self.get_html()\n",
    "                all_coins = all_coins + self.soup.select(\"td.coin-img a\") # list of all the coins. Append coins from each page\n",
    "        else:\n",
    "            all_coins = self.soup.select(\"td.coin-img a\") # list of all the coins\n",
    "        \n",
    "        \n",
    "        all_coins_links = [a['href'] for a in all_coins] # Link to webpage with photos\n",
    "        all_coins_names = [link.split(\"/\")[-2].split(\"-\") for link in all_coins_links] # Get all the coin names in the html\n",
    "\n",
    "        target_coin_idx = [] # indices of target coins.\n",
    "        \n",
    "        # Get the coins from the list that match our target coin name.\n",
    "        for ii, coin_name in enumerate(all_coins_names):\n",
    "            matched_keywords = [] # List with 1 if matched 0 if not matched the keyword.\n",
    "            for keyword in keywords: # For each of our keywords see if we find coins words that match.\n",
    "                matching = []\n",
    "                #if there is a word match we return 1 else 0.\n",
    "                for word in coin_name:\n",
    "                    if (keyword == word):\n",
    "                        matching.append(1)\n",
    "                    else:\n",
    "                        matching.append(0)\n",
    "                # If matching list contains a 1 we convert list to int 1, if not we convert list to int 0.       \n",
    "                matching = sorted(matching, reverse=True)\n",
    "                matching = matching[0] \n",
    "                matched_keywords.append(matching)\n",
    "                \n",
    "            matched_keywords = np.array(matched_keywords).mean() # if mean 1 it was a match. otherwise no match.\n",
    "            # Get the index of the matched link.\n",
    "            if int(matched_keywords) == 1:\n",
    "                target_coin_idx.append(ii)\n",
    "        \n",
    "        # ONLY the links of coins we want\n",
    "        target_coins_links = [base_url + coin_link for ii, coin_link in enumerate(all_coins_links) if ii in target_coin_idx]\n",
    "\n",
    "         # Throw error if no matches were found.\n",
    "        if len(target_coins_links) == 0:\n",
    "            error = \"No matches found for {}, {}, {}, with url {}\".format(self.name, self.currency,\n",
    "                                                                                     self.country, self.currency_url)\n",
    "            print(error)\n",
    "            #raise ValueError(error)\n",
    "        \n",
    "        target_coin_link = target_coins_links[0] # Both have the same gallery. So we can choose only one.\n",
    "        gallery_base_link = base_url + \"/gallery/\" # Link with all the coins\n",
    "        target_coin_id = target_coin_link.split(\"/\")[-1]\n",
    "        target_coin_gallery_link = gallery_base_link + target_coin_id + \"&list=all\"\n",
    "        \n",
    "        ### Now we have a gallery with our coins, lets get the links.\n",
    "        coin_gallery = requests.get(target_coin_gallery_link, headers=headers)\n",
    "        coin_gallery_html = BeautifulSoup(coin_gallery.content, 'html.parser')\n",
    "        \n",
    "        # Get the list of images ready to download\n",
    "        target_image_list = coin_gallery_html.select(\".coin-img img\")\n",
    "        target_image_list = [img['src'] for img in target_image_list]\n",
    "\n",
    "            \n",
    "        # Some formatting before we go\n",
    "        for ii, image_url in enumerate(target_image_list):\n",
    "            # Delete any placeholder images\n",
    "            if image_url.split(\"/\")[-2] == \"samples\":\n",
    "                continue\n",
    "            # Some sexy formatting\n",
    "            image_url = image_url.split(\"/\")\n",
    "            image_url[-2] = image_url[-2][:-1]\n",
    "            image_url = \"/\".join(image_url)\n",
    "            \n",
    "            self.image_urls.append(image_url) # yay!!\n",
    "\n",
    "\n",
    "    def save_to_dir (self):\n",
    "        # Check coin id and download all the coins into that dir.\n",
    "        base_dir = \"/home/pablo/Desktop/stuff/coin_cnn/data/train\"\n",
    "        folder = \"/\" + str(self.id)\n",
    "        \n",
    "        for ii, image_url in enumerate(self.image_urls):\n",
    "            image_name = \"/{}__{}\".format(str(ii+1).zfill(2), image_url.split(\"/\")[-1])\n",
    "            image_dir = \"{}{}{}\".format(base_dir, folder, image_name)\n",
    "            # Download and save the image\n",
    "            request.urlretrieve(image_url, image_dir)\n",
    "        \n",
    "        print(\"Succesfully saved images in folder {}{}\".format(base_dir, folder))"
   ]
  },
  {
   "cell_type": "markdown",
   "metadata": {},
   "source": [
    "We might need  to scrap data from different websites. We can do this overriding some of the methods from our coin class to meet our needs. The methods we are going to need to override are:\n",
    "* ```get_url```: Each website will be different, and will take different parameters. We can adjust that for each case\n",
    "* ```get_image_urls```: when scrapping the html, we will need to scrap different tags for different sites."
   ]
  },
  {
   "cell_type": "code",
   "execution_count": 302,
   "metadata": {},
   "outputs": [
    {
     "name": "stdout",
     "output_type": "stream",
     "text": [
      "['https://tse2.mm.bing.net/th?id=OIP.MsH-yk-AF38HB_4qLPjgBwHaHP&pid=Api', 'https://tse3.mm.bing.net/th?id=OIP.LBvZ6kPsVvkkIsPLwH1_QAHaHb&pid=Api', 'https://tse3.mm.bing.net/th?id=OIP.bmj0t4Zsc_bwbtJ4A2PTigAAAA&pid=Api', 'https://tse3.mm.bing.net/th?id=OIP.8Buuc7IDt5pcc3BTSeuz-gHaHe&pid=Api', 'https://tse2.mm.bing.net/th?id=OIP.H1s0mna-GLBhyFCqfRWsigHaHa&pid=Api', 'https://tse3.mm.bing.net/th?id=OIP.B1K1A01zoQTcwxi_uUSQLQHaDs&pid=Api', 'https://tse2.mm.bing.net/th?id=OIP.LXHpWgF9hey8E1euQHNhRQHaHM&pid=Api', 'https://tse1.mm.bing.net/th?id=OIP.DUByzsc3y8qOvkoObn1ZwgHaEP&pid=Api', 'https://tse1.mm.bing.net/th?id=OIP.wyIRWLfkYUh2j8C6GtE6ygHaHa&pid=Api', 'https://tse4.mm.bing.net/th?id=OIP.Nv5FfEVuCN3G1E-iMAuBPAHaDp&pid=Api', 'https://tse4.mm.bing.net/th?id=OIP.Bmpur06Dmy1III2BGVWa3wHaHa&pid=Api', 'https://tse3.mm.bing.net/th?id=OIP.F1Tm4-w10M9yuYd0otgvLgHaDt&pid=Api']\n"
     ]
    }
   ],
   "source": [
    "# Create custom scrapper here. We create one for scrapping google images\n",
    "class Coin_Bing (Coin):\n",
    "    def __init__(self, coin_id, coin_name, coin_currency, coin_country):\n",
    "        super().__init__(coin_id, coin_name, coin_currency, coin_country) # init super class parameters.\n",
    "    \n",
    "    # Override parent get_url\n",
    "    def get_url(self):\n",
    "        base_url = \"https://duckduckgo.com/?q=\" # Website url. Eg. Google\n",
    "        parameters = \"&atb=v130-7_i&iar=images&iax=images&ia=images\"\n",
    "        query = f\"{self.name} coin {self.country}\".split(\" \")\n",
    "        query = \"+\".join(query)\n",
    "        \n",
    "        self.currency_url = base_url + query + parameters\n",
    "        print(self.currency_url)\n",
    "    def get_html(self):\n",
    "        url = self.currency_url\n",
    "        browser = webdriver.PhantomJS()\n",
    "        browser.get(url)\n",
    "        html = browser.page_source\n",
    "        \n",
    "        if page.status_code == 200:\n",
    "            self.soup = BeautifulSoup(html, 'lxml')\n",
    "        else:\n",
    "            raise ValueError(f\"Status code {page.status_code} for url: {self.currency_url}\") # Throw error if 404\n",
    "        \n",
    "    # Override get_image_urls\n",
    "    def get_image_urls (self):\n",
    "        subscription_key = \"2c909589b185478d9b3cb4e603ac547a\"\n",
    "        assert subscription_key\n",
    "        \n",
    "        search_url = \"https://api.cognitive.microsoft.com/bing/v7.0/images/search\"\n",
    "        search_term = \"{} coin {}\".format(self.name, self.country)\n",
    "        \n",
    "        headers = {\"Ocp-Apim-Subscription-Key\" : subscription_key}\n",
    "        params  = {\"q\": search_term}\n",
    "        response = requests.get(search_url, headers=headers, params=params)\n",
    "        response.raise_for_status()\n",
    "        search_results = response.json()\n",
    "        self.image_urls = [img[\"thumbnailUrl\"] for img in search_results[\"value\"][:12]]\n",
    "\n",
    "example_coin = Coin_Bing(\"23\", \"1 cent\", \"australian dollar\", \"australia\")\n",
    "example_coin.get_image_urls()\n",
    "print(example_coin.image_urls)"
   ]
  },
  {
   "cell_type": "markdown",
   "metadata": {},
   "source": [
    "### Create a list of Coin instances\n",
    "\n",
    "We need to create a list of coin instances. First we need to get our cat_to_name.json into a dictionary. The dictionary will update if anything is added or removed so that there are no gaps in between indices. Once cat_to_name.json has been updated we load it into a dictionary. Finally we loop through this dictionary to create a Class instance of every coin in our dictionary."
   ]
  },
  {
   "cell_type": "code",
   "execution_count": 303,
   "metadata": {},
   "outputs": [
    {
     "data": {
      "text/plain": [
       "\"\\n# Load the json\\nwith open('cat_to_name.json', 'r') as file:\\n    cat_to_name = json.load(file)\\n       \\ncorrected_cat_2_name = [] # will contain the updated json\\n\\n# update indices.\\nfor ii, key in enumerate(cat_to_name):\\n    new_key = str(ii + 1)\\n    value = cat_to_name[key]\\n    corrected_cat_2_name.append((new_key, value))\\n        \\ncorrected_cat_2_name = dict(corrected_cat_2_name) # Convert list to dict\\n\\n# Save the updated json.\\nwith open('cat_to_name.json', 'w') as file:   \\n    json.dump(corrected_cat_2_name, file, indent=4)\\n\""
      ]
     },
     "execution_count": 303,
     "metadata": {},
     "output_type": "execute_result"
    }
   ],
   "source": [
    "'''\n",
    "# Load the json\n",
    "with open('cat_to_name.json', 'r') as file:\n",
    "    cat_to_name = json.load(file)\n",
    "       \n",
    "corrected_cat_2_name = [] # will contain the updated json\n",
    "\n",
    "# update indices.\n",
    "for ii, key in enumerate(cat_to_name):\n",
    "    new_key = str(ii + 1)\n",
    "    value = cat_to_name[key]\n",
    "    corrected_cat_2_name.append((new_key, value))\n",
    "        \n",
    "corrected_cat_2_name = dict(corrected_cat_2_name) # Convert list to dict\n",
    "\n",
    "# Save the updated json.\n",
    "with open('cat_to_name.json', 'w') as file:   \n",
    "    json.dump(corrected_cat_2_name, file, indent=4)\n",
    "'''"
   ]
  },
  {
   "cell_type": "code",
   "execution_count": 304,
   "metadata": {},
   "outputs": [
    {
     "data": {
      "text/plain": [
       "'1 Cent,Australian dollar,australia'"
      ]
     },
     "execution_count": 304,
     "metadata": {},
     "output_type": "execute_result"
    }
   ],
   "source": [
    "# Create a dict containing the json.\n",
    "with open('cat_to_name.json', 'r') as f:\n",
    "    cat_to_name = json.load(f)\n",
    "\n",
    "# Check that it worked\n",
    "cat_to_name[\"1\"]"
   ]
  },
  {
   "cell_type": "code",
   "execution_count": 305,
   "metadata": {},
   "outputs": [],
   "source": [
    "# A list containing an instance of Coin for each coin.\n",
    "coin_list = []\n",
    "\n",
    "# Append coins to coin_list.\n",
    "for coin in cat_to_name.items():\n",
    "    # Get the id, name, currency and country\n",
    "    coin_id = coin[0]\n",
    "    coin_data = coin[1].split(\",\")\n",
    "    coin_name, coin_currency, coin_country = coin_data[0], coin_data[1], coin_data[2]\n",
    "    \n",
    "    # Create a Coin instance.\n",
    "    my_coin = Coin_Bing(coin_id, coin_name, coin_currency, coin_country)\n",
    "    # Push it into coin list.\n",
    "    coin_list.append(my_coin)"
   ]
  },
  {
   "cell_type": "markdown",
   "metadata": {},
   "source": [
    "### Write data to dir\n",
    "\n",
    "Time  to loop through each coin save each coin images in their folder"
   ]
  },
  {
   "cell_type": "code",
   "execution_count": null,
   "metadata": {},
   "outputs": [
    {
     "name": "stdout",
     "output_type": "stream",
     "text": [
      "Succesfully saved images in folder /home/pablo/Desktop/stuff/coin_cnn/data/train/1\n",
      "Succesfully saved images in folder /home/pablo/Desktop/stuff/coin_cnn/data/train/2\n",
      "Succesfully saved images in folder /home/pablo/Desktop/stuff/coin_cnn/data/train/3\n",
      "Succesfully saved images in folder /home/pablo/Desktop/stuff/coin_cnn/data/train/4\n",
      "Succesfully saved images in folder /home/pablo/Desktop/stuff/coin_cnn/data/train/5\n",
      "Succesfully saved images in folder /home/pablo/Desktop/stuff/coin_cnn/data/train/6\n",
      "Succesfully saved images in folder /home/pablo/Desktop/stuff/coin_cnn/data/train/7\n",
      "Succesfully saved images in folder /home/pablo/Desktop/stuff/coin_cnn/data/train/8\n",
      "Succesfully saved images in folder /home/pablo/Desktop/stuff/coin_cnn/data/train/9\n",
      "Succesfully saved images in folder /home/pablo/Desktop/stuff/coin_cnn/data/train/10\n",
      "Succesfully saved images in folder /home/pablo/Desktop/stuff/coin_cnn/data/train/11\n",
      "Succesfully saved images in folder /home/pablo/Desktop/stuff/coin_cnn/data/train/12\n",
      "Succesfully saved images in folder /home/pablo/Desktop/stuff/coin_cnn/data/train/13\n",
      "Succesfully saved images in folder /home/pablo/Desktop/stuff/coin_cnn/data/train/14\n",
      "Succesfully saved images in folder /home/pablo/Desktop/stuff/coin_cnn/data/train/15\n",
      "Succesfully saved images in folder /home/pablo/Desktop/stuff/coin_cnn/data/train/16\n",
      "Succesfully saved images in folder /home/pablo/Desktop/stuff/coin_cnn/data/train/17\n",
      "Succesfully saved images in folder /home/pablo/Desktop/stuff/coin_cnn/data/train/18\n",
      "Succesfully saved images in folder /home/pablo/Desktop/stuff/coin_cnn/data/train/19\n",
      "Succesfully saved images in folder /home/pablo/Desktop/stuff/coin_cnn/data/train/20\n",
      "Succesfully saved images in folder /home/pablo/Desktop/stuff/coin_cnn/data/train/21\n",
      "Succesfully saved images in folder /home/pablo/Desktop/stuff/coin_cnn/data/train/22\n",
      "Succesfully saved images in folder /home/pablo/Desktop/stuff/coin_cnn/data/train/23\n",
      "Succesfully saved images in folder /home/pablo/Desktop/stuff/coin_cnn/data/train/24\n",
      "Succesfully saved images in folder /home/pablo/Desktop/stuff/coin_cnn/data/train/25\n",
      "Succesfully saved images in folder /home/pablo/Desktop/stuff/coin_cnn/data/train/26\n",
      "Succesfully saved images in folder /home/pablo/Desktop/stuff/coin_cnn/data/train/27\n",
      "Succesfully saved images in folder /home/pablo/Desktop/stuff/coin_cnn/data/train/28\n",
      "Succesfully saved images in folder /home/pablo/Desktop/stuff/coin_cnn/data/train/29\n",
      "Succesfully saved images in folder /home/pablo/Desktop/stuff/coin_cnn/data/train/30\n",
      "Succesfully saved images in folder /home/pablo/Desktop/stuff/coin_cnn/data/train/31\n",
      "Succesfully saved images in folder /home/pablo/Desktop/stuff/coin_cnn/data/train/32\n",
      "Succesfully saved images in folder /home/pablo/Desktop/stuff/coin_cnn/data/train/33\n",
      "Succesfully saved images in folder /home/pablo/Desktop/stuff/coin_cnn/data/train/34\n",
      "Succesfully saved images in folder /home/pablo/Desktop/stuff/coin_cnn/data/train/35\n",
      "Succesfully saved images in folder /home/pablo/Desktop/stuff/coin_cnn/data/train/36\n",
      "Succesfully saved images in folder /home/pablo/Desktop/stuff/coin_cnn/data/train/37\n",
      "Succesfully saved images in folder /home/pablo/Desktop/stuff/coin_cnn/data/train/38\n",
      "Succesfully saved images in folder /home/pablo/Desktop/stuff/coin_cnn/data/train/39\n",
      "Succesfully saved images in folder /home/pablo/Desktop/stuff/coin_cnn/data/train/40\n",
      "Succesfully saved images in folder /home/pablo/Desktop/stuff/coin_cnn/data/train/41\n",
      "Succesfully saved images in folder /home/pablo/Desktop/stuff/coin_cnn/data/train/42\n",
      "Succesfully saved images in folder /home/pablo/Desktop/stuff/coin_cnn/data/train/43\n",
      "Succesfully saved images in folder /home/pablo/Desktop/stuff/coin_cnn/data/train/44\n",
      "Succesfully saved images in folder /home/pablo/Desktop/stuff/coin_cnn/data/train/45\n",
      "Succesfully saved images in folder /home/pablo/Desktop/stuff/coin_cnn/data/train/46\n",
      "Succesfully saved images in folder /home/pablo/Desktop/stuff/coin_cnn/data/train/47\n",
      "Succesfully saved images in folder /home/pablo/Desktop/stuff/coin_cnn/data/train/48\n",
      "Succesfully saved images in folder /home/pablo/Desktop/stuff/coin_cnn/data/train/49\n",
      "Succesfully saved images in folder /home/pablo/Desktop/stuff/coin_cnn/data/train/50\n",
      "Succesfully saved images in folder /home/pablo/Desktop/stuff/coin_cnn/data/train/51\n",
      "Succesfully saved images in folder /home/pablo/Desktop/stuff/coin_cnn/data/train/52\n",
      "Succesfully saved images in folder /home/pablo/Desktop/stuff/coin_cnn/data/train/53\n",
      "Succesfully saved images in folder /home/pablo/Desktop/stuff/coin_cnn/data/train/54\n",
      "Succesfully saved images in folder /home/pablo/Desktop/stuff/coin_cnn/data/train/55\n",
      "Succesfully saved images in folder /home/pablo/Desktop/stuff/coin_cnn/data/train/56\n",
      "Succesfully saved images in folder /home/pablo/Desktop/stuff/coin_cnn/data/train/57\n",
      "Succesfully saved images in folder /home/pablo/Desktop/stuff/coin_cnn/data/train/58\n",
      "Succesfully saved images in folder /home/pablo/Desktop/stuff/coin_cnn/data/train/59\n",
      "Succesfully saved images in folder /home/pablo/Desktop/stuff/coin_cnn/data/train/60\n",
      "Succesfully saved images in folder /home/pablo/Desktop/stuff/coin_cnn/data/train/61\n",
      "Succesfully saved images in folder /home/pablo/Desktop/stuff/coin_cnn/data/train/62\n",
      "Succesfully saved images in folder /home/pablo/Desktop/stuff/coin_cnn/data/train/63\n",
      "Succesfully saved images in folder /home/pablo/Desktop/stuff/coin_cnn/data/train/64\n",
      "Succesfully saved images in folder /home/pablo/Desktop/stuff/coin_cnn/data/train/65\n",
      "Succesfully saved images in folder /home/pablo/Desktop/stuff/coin_cnn/data/train/66\n",
      "Succesfully saved images in folder /home/pablo/Desktop/stuff/coin_cnn/data/train/67\n",
      "Succesfully saved images in folder /home/pablo/Desktop/stuff/coin_cnn/data/train/68\n",
      "Succesfully saved images in folder /home/pablo/Desktop/stuff/coin_cnn/data/train/69\n",
      "Succesfully saved images in folder /home/pablo/Desktop/stuff/coin_cnn/data/train/70\n",
      "Succesfully saved images in folder /home/pablo/Desktop/stuff/coin_cnn/data/train/71\n",
      "Succesfully saved images in folder /home/pablo/Desktop/stuff/coin_cnn/data/train/72\n",
      "Succesfully saved images in folder /home/pablo/Desktop/stuff/coin_cnn/data/train/73\n",
      "Succesfully saved images in folder /home/pablo/Desktop/stuff/coin_cnn/data/train/74\n",
      "Succesfully saved images in folder /home/pablo/Desktop/stuff/coin_cnn/data/train/75\n"
     ]
    }
   ],
   "source": [
    "# Download our images.\n",
    "for ii in range(len(coin_list)):\n",
    "    coin_list[ii].get_image_urls()\n",
    "    coin_list[ii].save_to_dir()\n",
    "    time.sleep(1) # Slow down crawling to avoid gettting banned -_-\n"
   ]
  },
  {
   "cell_type": "code",
   "execution_count": null,
   "metadata": {
    "scrolled": true
   },
   "outputs": [],
   "source": [
    "'''\n",
    "for coin in coin_list:\n",
    "    coin.get_url()\n",
    "    coin.get_html()\n",
    "    coin.get_image_urls()\n",
    "    coin.save_to_dir()\n",
    "    time.sleep(1) # Slow down crawling to avoid gettting banned -_-\n",
    "'''\n",
    "\n"
   ]
  },
  {
   "cell_type": "code",
   "execution_count": 198,
   "metadata": {},
   "outputs": [
    {
     "name": "stdout",
     "output_type": "stream",
     "text": [
      "17 10 Pence\n",
      "Succesfully saved images in folder /home/pablo/Desktop/stuff/coin_cnn/data/train/17\n"
     ]
    }
   ],
   "source": []
  },
  {
   "cell_type": "code",
   "execution_count": null,
   "metadata": {},
   "outputs": [],
   "source": []
  }
 ],
 "metadata": {
  "kernelspec": {
   "display_name": "Python 3",
   "language": "python",
   "name": "python3"
  },
  "language_info": {
   "codemirror_mode": {
    "name": "ipython",
    "version": 3
   },
   "file_extension": ".py",
   "mimetype": "text/x-python",
   "name": "python",
   "nbconvert_exporter": "python",
   "pygments_lexer": "ipython3",
   "version": "3.7.0"
  }
 },
 "nbformat": 4,
 "nbformat_minor": 2
}
