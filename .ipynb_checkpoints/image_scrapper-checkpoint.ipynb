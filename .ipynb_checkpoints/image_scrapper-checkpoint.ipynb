{
 "cells": [
  {
   "cell_type": "code",
   "execution_count": 131,
   "metadata": {},
   "outputs": [],
   "source": [
    "import requests\n",
    "import json\n",
    "from bs4 import BeautifulSoup\n",
    "import numpy as np\n",
    "from urllib import request"
   ]
  },
  {
   "cell_type": "markdown",
   "metadata": {},
   "source": [
    "### Coin class\n",
    "Create a coin class that will keep track of each coin's data, such as url, coin name and the images_url"
   ]
  },
  {
   "cell_type": "code",
   "execution_count": 132,
   "metadata": {
    "scrolled": true
   },
   "outputs": [
    {
     "name": "stdout",
     "output_type": "stream",
     "text": [
      "['https://i.ucoin.net/coin/21/375/21375347-1/sweden-10-kronor-2006.jpg', 'https://i.ucoin.net/coin/21/375/21375347-2/sweden-10-kronor-2006.jpg', 'https://i.ucoin.net/coin/21/375/21375249-1/sweden-10-kronor-2009.jpg', 'https://i.ucoin.net/coin/21/375/21375249-2/sweden-10-kronor-2009.jpg', 'https://i.ucoin.net/coin/21/375/21375102-1/sweden-10-kronor-2002.jpg', 'https://i.ucoin.net/coin/21/375/21375102-2/sweden-10-kronor-2002.jpg', 'https://i.ucoin.net/coin/21/375/21375003-1/sweden-10-kronor-2001.jpg', 'https://i.ucoin.net/coin/21/375/21375003-2/sweden-10-kronor-2001.jpg', 'https://i.ucoin.net/coin/18/190/18190372-1/sweden-10-kronor-2004.jpg', 'https://i.ucoin.net/coin/18/190/18190372-2/sweden-10-kronor-2004.jpg', 'https://i.ucoin.net/coin/17/262/17262791-1/sweden-10-kronor-2007.jpg', 'https://i.ucoin.net/coin/17/262/17262791-2/sweden-10-kronor-2007.jpg', 'https://i.ucoin.net/coin/16/345/16345567-1/sweden-10-kronor-2008.jpg', 'https://i.ucoin.net/coin/16/345/16345567-2/sweden-10-kronor-2008.jpg', 'https://i.ucoin.net/coin/16/345/16345515-1/sweden-10-kronor-2007.jpg', 'https://i.ucoin.net/coin/16/345/16345515-2/sweden-10-kronor-2007.jpg', 'https://i.ucoin.net/coin/14/644/14644611-1/sweden-10-kronor-2002.jpg', 'https://i.ucoin.net/coin/14/644/14644611-2/sweden-10-kronor-2002.jpg', 'https://i.ucoin.net/coin/14/097/14097485-1/sweden-10-kronor-2003.jpg', 'https://i.ucoin.net/coin/14/097/14097485-2/sweden-10-kronor-2003.jpg', 'https://i.ucoin.net/coin/13/580/13580724-1/sweden-10-kronor-2004.jpg', 'https://i.ucoin.net/coin/13/580/13580724-2/sweden-10-kronor-2004.jpg', 'https://i.ucoin.net/coin/12/846/12846840-1/sweden-10-kronor-2005.jpg', 'https://i.ucoin.net/coin/12/846/12846840-2/sweden-10-kronor-2005.jpg']\n"
     ]
    }
   ],
   "source": [
    "# Class for each coin category.\n",
    "class Coin:\n",
    "    def __init__(self, coin_id, coin_name, coin_currency, coin_country):\n",
    "        self.id = coin_id\n",
    "        self.name = coin_name\n",
    "        self.currency = coin_currency\n",
    "        self.country = coin_country\n",
    "        self.currency_url = \"\" # Url of the web we are going to scrap.\n",
    "        self.image_urls = [] # All the relevant images urls ready to download.\n",
    "        self.soup = None # Our BeautifulSoup containing the html object.\n",
    "        \n",
    "    # Return the url we are going to scrap\n",
    "    def get_url (self, year=\"2006-2018\"):\n",
    "        base_url = \"https://en.ucoin.net/catalog/?\" # Website url\n",
    "        country = f\"country={self.country}\" # Parameters\n",
    "        year = f\"year={year}\" # Parameters\n",
    "\n",
    "        url = base_url + country + \"&\" + year + \"&type=1\"\n",
    "        \n",
    "        self.currency_url = url # Update our currency_url variable.\n",
    "    \n",
    "    # Store the html of the web in a variable.\n",
    "    def get_html (self):\n",
    "        page = requests.get(self.currency_url)\n",
    "        \n",
    "        if page.status_code == 200:\n",
    "            self.soup = BeautifulSoup(page.content, 'html.parser')\n",
    "        else:\n",
    "            raise ValueError(f\"Status code {page.status_code} for url: {self.currency_url}\") # Throw error if 404\n",
    "    \n",
    "    # Examine the html to find images of our specific coin.\n",
    "    # First we find the coin from a list of coins\n",
    "    # Second we extract a link that takes us to a page with lots of photos for that coin.\n",
    "    def get_image_urls (self):\n",
    "        base_url = \"https://en.ucoin.net\"\n",
    "        keywords = self.name.lower().split() # Our target image keywords\n",
    "        all_coins = self.soup.select(\"td.coin-img a\") # list of all the coins\n",
    "        all_coins_links = [a['href'] for a in all_coins] # Link to webpage with photos\n",
    "        all_coins_names = [link.split(\"/\")[-2].split(\"-\") for link in all_coins_links] # Get all the coin names in the html\n",
    "        \n",
    "        target_coin_idx = [] # indices of target coins.\n",
    "        \n",
    "        # Get the coins from the list that match our target coin name.\n",
    "        for ii, coin_name in enumerate(all_coins_names):\n",
    "            matched_keywords = [] # List with 1 if matched 0 if not matched the keyword.\n",
    "            for keyword in keywords: # For each of our keywords see if we find coins words that match.\n",
    "                matching = []\n",
    "                #if there is a word match we return 1 else 0.\n",
    "                for word in coin_name:\n",
    "                    if (keyword == word): \n",
    "                        matching.append(1)\n",
    "                    else:\n",
    "                        matching.append(0)\n",
    "                # If matching list contains a 1 we convert list to int 1, if not we convert list to int 0.       \n",
    "                matching = sorted(matching, reverse=True)\n",
    "                matching = matching[0] \n",
    "                matched_keywords.append(matching)\n",
    "                \n",
    "            matched_keywords = np.array(matched_keywords).mean() # if mean 1 it was a match. otherwise no match.\n",
    "            # Get the index of the matched link.\n",
    "            if int(matched_keywords) == 1:\n",
    "                target_coin_idx.append(ii)\n",
    "        \n",
    "        # ONLY the links of coins we want\n",
    "        target_coins_links = [base_url + coin_link for ii, coin_link in enumerate(all_coins_links) if ii in target_coin_idx]\n",
    "        \n",
    "        target_coin_link = target_coins_links[0] # Both have the same gallery. So we can choose only one.\n",
    "        gallery_base_link = base_url + \"/gallery/\" # Link with all the coins\n",
    "        target_coin_id = target_coin_link.split(\"/\")[-1]\n",
    "        target_coin_gallery_link = gallery_base_link + target_coin_id\n",
    "   \n",
    "        ### Now we have a gallery with our coins, lets get the links.\n",
    "        coin_gallery = requests.get(target_coin_gallery_link)\n",
    "        coin_gallery_html = BeautifulSoup(coin_gallery.content, 'html.parser')\n",
    "        \n",
    "        # Get the list of images ready to download\n",
    "        target_image_list = coin_gallery_html.select(\".coin-img img\")\n",
    "        target_image_list = [img['src'] for img in target_image_list]\n",
    "        # Some formatting before we go\n",
    "        for ii, image_url in enumerate(target_image_list):\n",
    "            image_url = image_url.split(\"/\")\n",
    "            image_url[-2] = image_url[-2][:-1]\n",
    "            image_url = \"/\".join(image_url)\n",
    "            self.image_urls.append(image_url) # yay!!\n",
    "\n",
    "    def save_to_dir ():\n",
    "        # Check coin id and download all the coins into that dir."
   ]
  },
  {
   "cell_type": "markdown",
   "metadata": {},
   "source": [
    "We might need  to scrap data from different websites. We can do this overriding some of the methods from our coin class to meet our needs. The methods we are going to need to override are:\n",
    "* ```get_url```: Each website will be different, and will take different parameters. We can adjust that for each case\n",
    "* ```get_image_urls```: when scrapping the html, we will need to scrap different tags for different sites."
   ]
  },
  {
   "cell_type": "code",
   "execution_count": 133,
   "metadata": {},
   "outputs": [
    {
     "name": "stdout",
     "output_type": "stream",
     "text": [
      "https://www.google.com/search?tbm=isch&sa=1&ei=txYYXNaPFYO5sQH99aPwBg&q=25+kurus+coin+turkey\n"
     ]
    }
   ],
   "source": [
    "# Create custom scrapper here. We create one for scrapping google images\n",
    "class Custom_Coin_Scrapper (Coin):\n",
    "    def __init__(self, coin_id, coin_name, coin_currency, coin_country):\n",
    "        super().__init__(coin_id, coin_name, coin_currency, coin_country) # init super class parameters.\n",
    "    \n",
    "    # Override parent get_url\n",
    "    def get_url(self):\n",
    "        base_url = \"https://www.google.com/search?tbm=isch&sa=1&ei=txYYXNaPFYO5sQH99aPwBg&q=\" # Website url. Eg. Google\n",
    "        query = f\"{self.name} coin {self.country}\".split(\" \")\n",
    "        query = \"+\".join(query)\n",
    "        \n",
    "        self.currency_url = base_url + query\n",
    "    \n",
    "    # Override get_image_urls\n",
    "    def get_image_urls (self):\n",
    "        None\n",
    "\n",
    "# Working example\n",
    "example_coin = Custom_Coin_Scrapper(2, \"25 kurus\", \"Turkish lira\", \"turkey\")\n",
    "example_coin.get_url()\n",
    "example_coin.get_html()\n",
    "print(example_coin.currency_url)"
   ]
  },
  {
   "cell_type": "markdown",
   "metadata": {},
   "source": [
    "### Create a list of Coin instances\n",
    "\n",
    "Create a list with all the necessary data for each coin to start scrapping."
   ]
  },
  {
   "cell_type": "code",
   "execution_count": 134,
   "metadata": {},
   "outputs": [
    {
     "data": {
      "text/plain": [
       "'1 Cent,Australian dollar,australia'"
      ]
     },
     "execution_count": 134,
     "metadata": {},
     "output_type": "execute_result"
    }
   ],
   "source": [
    "# Create a dict containing the json.\n",
    "with open('cat_to_name.json', 'r') as f:\n",
    "    cat_to_name = json.load(f)\n",
    "\n",
    "# Check that it worked\n",
    "cat_to_name[\"1\"]"
   ]
  },
  {
   "cell_type": "code",
   "execution_count": 136,
   "metadata": {},
   "outputs": [],
   "source": [
    "# A list containing an instance of Coin for each coin.\n",
    "coin_list = []\n",
    "\n",
    "# Append coins to coin_list.\n",
    "for coin in cat_to_name.items():\n",
    "    # Get the id, name, currency and country\n",
    "    coin_id = coin[0]\n",
    "    coin_data = coin[1].split(\",\")\n",
    "    coin_name, coin_currency, coin_country = coin_data[0], coin_data[1], coin_data[2]\n",
    "    \n",
    "    # Create a Coin instance.\n",
    "    my_coin = Coin(coin_id, coin_name, coin_currency, coin_country)\n",
    "    # Push it into coin list.\n",
    "    coin_list.append(my_coin)"
   ]
  },
  {
   "cell_type": "code",
   "execution_count": null,
   "metadata": {},
   "outputs": [],
   "source": []
  },
  {
   "cell_type": "code",
   "execution_count": null,
   "metadata": {},
   "outputs": [],
   "source": []
  }
 ],
 "metadata": {
  "kernelspec": {
   "display_name": "Python 3",
   "language": "python",
   "name": "python3"
  },
  "language_info": {
   "codemirror_mode": {
    "name": "ipython",
    "version": 3
   },
   "file_extension": ".py",
   "mimetype": "text/x-python",
   "name": "python",
   "nbconvert_exporter": "python",
   "pygments_lexer": "ipython3",
   "version": "3.7.0"
  }
 },
 "nbformat": 4,
 "nbformat_minor": 2
}
