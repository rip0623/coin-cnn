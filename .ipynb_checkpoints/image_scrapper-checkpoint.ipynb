{
 "cells": [
  {
   "cell_type": "code",
   "execution_count": 16,
   "metadata": {},
   "outputs": [],
   "source": [
    "import requests\n",
    "from bs4 import BeautifulSoup"
   ]
  },
  {
   "cell_type": "code",
   "execution_count": 17,
   "metadata": {},
   "outputs": [],
   "source": [
    "# Return the url we are going to scrap\n",
    "def get_url (country, year=\"2006-2018\"):\n",
    "    base_url = \"https://en.ucoin.net/catalog/?\"\n",
    "    country = f\"country={country}\"\n",
    "    year = f\"year={year}\"\n",
    "    \n",
    "    url = base_url + country + \"&\" + year + \"&type=1\"\n",
    "    return url"
   ]
  },
  {
   "cell_type": "code",
   "execution_count": 23,
   "metadata": {},
   "outputs": [],
   "source": [
    "# Class for each coin category.\n",
    "class Coin:\n",
    "    def __init__(self, coin_id, coin_name, coin_currency, coin_country):\n",
    "        self.id = coin_id\n",
    "        self.name = coin_name\n",
    "        self.currency = coin_currency\n",
    "        self.country = coin_country\n",
    "\n",
    "# Create a dict containing the json.\n",
    "int_to_coin = None"
   ]
  },
  {
   "cell_type": "code",
   "execution_count": 21,
   "metadata": {},
   "outputs": [],
   "source": [
    "# A list containing an instance of Coin for each coin.\n",
    "coin_list = []\n",
    "\n",
    "for coin in int_to_coin:\n",
    "    # Get the id, name, ,currency and country\n",
    "    \n",
    "    # Create a Coin instance.\n",
    "    \n",
    "    # Push it into coin list."
   ]
  },
  {
   "cell_type": "code",
   "execution_count": null,
   "metadata": {},
   "outputs": [],
   "source": []
  }
 ],
 "metadata": {
  "kernelspec": {
   "display_name": "Python 3",
   "language": "python",
   "name": "python3"
  },
  "language_info": {
   "codemirror_mode": {
    "name": "ipython",
    "version": 3
   },
   "file_extension": ".py",
   "mimetype": "text/x-python",
   "name": "python",
   "nbconvert_exporter": "python",
   "pygments_lexer": "ipython3",
   "version": "3.7.0"
  }
 },
 "nbformat": 4,
 "nbformat_minor": 2
}
