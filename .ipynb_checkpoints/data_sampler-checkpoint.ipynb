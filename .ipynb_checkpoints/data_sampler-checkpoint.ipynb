{
 "cells": [
  {
   "cell_type": "markdown",
   "metadata": {},
   "source": [
    "# Sampling the data\n",
    "\n",
    "The very last thing we need to do before moving on to training a model is to create 3 diferent data samples: one for training, one for validation and another one for testing.\n",
    "* **Training will be 80% of the dataset**\n",
    "* **Validation will be 10% of the dataset**\n",
    "* **Testing will be 10% of the dataset**"
   ]
  },
  {
   "cell_type": "code",
   "execution_count": 9,
   "metadata": {},
   "outputs": [],
   "source": [
    "import os\n",
    "import math\n",
    "import shutil"
   ]
  },
  {
   "cell_type": "code",
   "execution_count": 10,
   "metadata": {},
   "outputs": [],
   "source": [
    "user_dir = os.path.expanduser('~')\n",
    "\n",
    "# Iterate through every directory and gather some data.\n",
    "def get_number_images ():\n",
    "    n_images = 0 # Keeps count of the number of images.\n",
    "    base_path = user_dir + \"/Desktop/stuff/coin_cnn/data/train/\"\n",
    "    data_directories = os.listdir(base_path) # List with all the directories\n",
    "    \n",
    "    for ii, data_dir in enumerate(data_directories):\n",
    "        data_path = base_path + data_dir\n",
    "        image_dir = os.listdir(data_path)\n",
    "        n_images = n_images + len(image_dir)\n",
    "        \n",
    "    return n_images"
   ]
  },
  {
   "cell_type": "code",
   "execution_count": 11,
   "metadata": {},
   "outputs": [
    {
     "name": "stdout",
     "output_type": "stream",
     "text": [
      "n_train = 5130\n",
      "n_valid = 641\n",
      "n_test = 642\n"
     ]
    }
   ],
   "source": [
    "# Let's see how many images will be in each dataset\n",
    "\n",
    "n_images = get_number_images()\n",
    "n_train = int(n_images * 0.8)\n",
    "n_valid = int(n_images * 0.1)\n",
    "n_test = n_images - (n_train + n_valid)\n",
    "\n",
    "print(\"n_train = {}\\nn_valid = {}\\nn_test = {}\".format(n_train, n_valid, n_test))"
   ]
  },
  {
   "cell_type": "code",
   "execution_count": 12,
   "metadata": {},
   "outputs": [
    {
     "name": "stdout",
     "output_type": "stream",
     "text": [
      "Images per dir for val 4\n",
      "Images per dir for test 4\n"
     ]
    }
   ],
   "source": [
    "# Lets see how many images we are going to have to take from each directory\n",
    "n_classes = 211\n",
    "\n",
    "n_valid_per_dir = math.ceil(n_valid/n_classes)\n",
    "n_test_per_dir = math.ceil(n_test/n_classes)\n",
    "\n",
    "print(\"Images per dir for val {}\\nImages per dir for test {}\"\n",
    "      .format(n_valid_per_dir, n_test_per_dir))"
   ]
  },
  {
   "cell_type": "code",
   "execution_count": 13,
   "metadata": {},
   "outputs": [],
   "source": [
    "def sample_data (origin_dir_name, dest_dir_name, imgs_per_dir = 4):\n",
    "    base_path = user_dir + \"/Desktop/stuff/coin_cnn/data/\"\n",
    "    origin_dir = base_path + origin_dir_name + \"/\"\n",
    "    dest_dir = base_path + dest_dir_name + \"/\"\n",
    "\n",
    "    \n",
    "    origin_data_dirs = os.listdir(origin_dir) # List all the directories from origin dir\n",
    "\n",
    "    for data_dir in origin_data_dirs:\n",
    "        data_path_origin = origin_dir + data_dir # The current dir path in origin\n",
    "        data_path_dest = dest_dir + data_dir # The destination path of the image\n",
    "        \n",
    "        image_dir_origin = os.listdir(data_path_origin)\n",
    "        image_dir_origin = image_dir_origin[:imgs_per_dir] # We only want to take a few images for our sample\n",
    "\n",
    "        # Iterate through each image and move it to the dest dir\n",
    "        for image in image_dir_origin:\n",
    "            image_path_origin = data_path_origin + \"/\" + image\n",
    "            image_path_dest = data_path_dest + \"/\" + image\n",
    "            \n",
    "            os.rename(image_path_origin, image_path_dest)\n",
    "    print(\"Done.\")\n",
    "\n",
    "        \n",
    "#sample_data(\"train\", \"test\")\n",
    "#sample_data(\"train\", \"validation\")"
   ]
  },
  {
   "cell_type": "code",
   "execution_count": null,
   "metadata": {},
   "outputs": [],
   "source": []
  }
 ],
 "metadata": {
  "kernelspec": {
   "display_name": "Python 3",
   "language": "python",
   "name": "python3"
  },
  "language_info": {
   "codemirror_mode": {
    "name": "ipython",
    "version": 3
   },
   "file_extension": ".py",
   "mimetype": "text/x-python",
   "name": "python",
   "nbconvert_exporter": "python",
   "pygments_lexer": "ipython3",
   "version": "3.7.0"
  }
 },
 "nbformat": 4,
 "nbformat_minor": 2
}
