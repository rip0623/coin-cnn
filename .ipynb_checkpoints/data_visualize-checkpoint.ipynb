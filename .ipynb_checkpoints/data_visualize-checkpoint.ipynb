{
 "cells": [
  {
   "cell_type": "markdown",
   "metadata": {},
   "source": [
    "# Visualizing our data"
   ]
  },
  {
   "cell_type": "code",
   "execution_count": 33,
   "metadata": {},
   "outputs": [],
   "source": [
    "import pandas as pd\n",
    "import numpy as np\n",
    "import os\n",
    "import json"
   ]
  },
  {
   "cell_type": "markdown",
   "metadata": {},
   "source": [
    "### Create a table\n",
    "I'll create a table that cointains information about the data:\n",
    "* coin's image width\n",
    "* coin's image height\n",
    "* coin's name\n",
    "* coin's currency \n",
    "* coin's country\n",
    "\n",
    "I'll iterate through each directory to extract the information for each image and add it to a table."
   ]
  },
  {
   "cell_type": "code",
   "execution_count": 50,
   "metadata": {},
   "outputs": [
    {
     "data": {
      "text/html": [
       "<div>\n",
       "<style scoped>\n",
       "    .dataframe tbody tr th:only-of-type {\n",
       "        vertical-align: middle;\n",
       "    }\n",
       "\n",
       "    .dataframe tbody tr th {\n",
       "        vertical-align: top;\n",
       "    }\n",
       "\n",
       "    .dataframe thead th {\n",
       "        text-align: right;\n",
       "    }\n",
       "</style>\n",
       "<table border=\"1\" class=\"dataframe\">\n",
       "  <thead>\n",
       "    <tr style=\"text-align: right;\">\n",
       "      <th></th>\n",
       "      <th>coin_name</th>\n",
       "      <th>currency</th>\n",
       "      <th>country</th>\n",
       "      <th>image_width</th>\n",
       "      <th>image_height</th>\n",
       "      <th>image_name</th>\n",
       "    </tr>\n",
       "  </thead>\n",
       "  <tbody>\n",
       "  </tbody>\n",
       "</table>\n",
       "</div>"
      ],
      "text/plain": [
       "Empty DataFrame\n",
       "Columns: [coin_name, currency, country, image_width, image_height, image_name]\n",
       "Index: []"
      ]
     },
     "execution_count": 50,
     "metadata": {},
     "output_type": "execute_result"
    }
   ],
   "source": [
    "coins_data = pd.DataFrame(columns=['coin_name', 'currency', 'country', 'image_width', 'image_height', 'image_name'])\n",
    "\n",
    "# Starting point\n",
    "coins_data\n",
    "\n",
    "# Adding a row\n",
    "#coins_data.loc[1] = np.array(['name', 'euros', 'spain', '304', '234'])"
   ]
  },
  {
   "cell_type": "code",
   "execution_count": 42,
   "metadata": {},
   "outputs": [],
   "source": [
    "user_dir = os.path.expanduser('~')\n",
    "# Iterate through alll the images\n",
    "base_path = user_dir + \"/Desktop/stuff/coin_cnn/data/train/\"\n",
    "data_directories = os.listdir(base_path) # List with all the directories"
   ]
  },
  {
   "cell_type": "code",
   "execution_count": 43,
   "metadata": {},
   "outputs": [
    {
     "name": "stdout",
     "output_type": "stream",
     "text": [
      "112\n",
      "20 Centavos,Mexican peso,mexico\n"
     ]
    }
   ],
   "source": [
    "# Load the json mapper\n",
    "with open('cat_to_name.json', 'r') as f:\n",
    "    cat_to_name = json.load(f)\n",
    "\n",
    "# Test that it is working\n",
    "print(data_directories[3])\n",
    "print(cat_to_name[data_directories[3]])"
   ]
  },
  {
   "cell_type": "code",
   "execution_count": 49,
   "metadata": {},
   "outputs": [
    {
     "name": "stdout",
     "output_type": "stream",
     "text": [
      "['44__chile-500-pesos-2000.jpg', '01__chile-500-pesos-2016.jpg', '01__th?id=OIP.3EJFSG8RWSh1c_W9eqUzfAHaHb&pid=Api.jpg', '15__chile-500-pesos-2012.jpg', '06__chile-500-pesos-2002.jpg', '02__chile-500-pesos-2016.jpg', '26__chile-500-pesos-2016.jpg', '40__chile-500-pesos-2012.jpg', '13__chile-500-pesos-2013.jpg', '07__th?id=OIP.LWVX6K8yar877tkF96_o6QHaHO&pid=Api.jpg', '11__chile-500-pesos-2013.jpg', '05__th?id=OIP.pJI1HBnWfZ6_eKaKCZvFjwHaHa&pid=Api.jpg', '04__th?id=OIP.YohbJNiCfQV7e_R8DRrcvQAAAA&pid=Api.jpg', '27__chile-500-pesos-2017.jpg', '10__chile-500-pesos-2012.jpg', '11__th?id=OIP.kJxGkUlRkYsvgxuY5xPo4wHaHZ&pid=Api.jpg', '39__chile-500-pesos-2012.jpg', '12__chile-500-pesos-2013.jpg', '22__chile-500-pesos-2003.jpg', '48__chile-500-pesos-2003.jpg', '32__chile-500-pesos-2015.jpg', '05__chile-500-pesos-2002.jpg', '08__chile-500-pesos-2015.jpg', '42__chile-500-pesos-2003.jpg', '12__th?id=OIP.vUh1GiS2DJ9WGTtELxcSMgAAAA&pid=Api.jpg', '14__chile-500-pesos-2013.jpg', '23__chile-500-pesos-2003.jpg', '38__chile-500-pesos-2013.jpg', '28__chile-500-pesos-2017.jpg', '17__chile-500-pesos-2003.jpg', '20__chile-500-pesos-2000.jpg', '33__chile-500-pesos-2012.jpg', '09__th?id=OIP.5Afca52aUZ2DThhfnQANMgHaHU&pid=Api.jpg', '34__chile-500-pesos-2012.jpg', '41__chile-500-pesos-2003.jpg', '43__chile-500-pesos-2000.jpg', '35__chile-500-pesos-2013.jpg', '36__chile-500-pesos-2013.jpg', '02__th?id=OIP.pWGP9tCvta7PS8_Hhd-TZAHaHY&pid=Api.jpg', '06__th?id=OIP.NXmUVsM1C_S40LqWGET2DgHaHQ&pid=Api.jpg', '47__chile-500-pesos-2003.jpg', '16__chile-500-pesos-2012.jpg', '10__th?id=OIP.VDZbOvSrDQ7d5CKFz9XxQAAAAA&pid=Api.jpg', '08__th?id=OIP._evgmtm0K7HKZHeGS_14EwHaHb&pid=Api.jpg', '45__chile-500-pesos-2003.jpg', '03__chile-500-pesos-2017.jpg', '46__chile-500-pesos-2003.jpg', '09__chile-500-pesos-2012.jpg', '29__chile-500-pesos-2002.jpg', '03__th?id=OIP.LaR6_dbKrvffBKnQsUfQqgHaHh&pid=Api.jpg', '30__chile-500-pesos-2002.jpg', '31__chile-500-pesos-2015.jpg', '25__chile-500-pesos-2016.jpg', '21__chile-500-pesos-2003.jpg', '37__chile-500-pesos-2013.jpg', '04__chile-500-pesos-2017.jpg', '07__chile-500-pesos-2015.jpg', '18__chile-500-pesos-2003.jpg', '19__chile-500-pesos-2000.jpg', '24__chile-500-pesos-2003.jpg']\n"
     ]
    }
   ],
   "source": [
    "# Iterate through every image and gather some data.\n",
    "for data_dir in data_directories:\n",
    "    data_path = base_path + data_dir\n",
    "    coin_data = cat_to_name[data_dir].split(\",\")\n",
    "    coin_name, coin_currency, country = coin_data[0], coin_data[1], coin_data[2]\n",
    "    \n",
    "    image_dir = os.listdir(data_path)"
   ]
  },
  {
   "cell_type": "code",
   "execution_count": null,
   "metadata": {},
   "outputs": [],
   "source": []
  }
 ],
 "metadata": {
  "kernelspec": {
   "display_name": "Python 3",
   "language": "python",
   "name": "python3"
  },
  "language_info": {
   "codemirror_mode": {
    "name": "ipython",
    "version": 3
   },
   "file_extension": ".py",
   "mimetype": "text/x-python",
   "name": "python",
   "nbconvert_exporter": "python",
   "pygments_lexer": "ipython3",
   "version": "3.7.0"
  }
 },
 "nbformat": 4,
 "nbformat_minor": 2
}
